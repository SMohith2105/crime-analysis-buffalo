{
 "cells": [
  {
   "cell_type": "code",
   "execution_count": 1,
   "id": "30c7da90-b213-4826-8edd-f4888eef489c",
   "metadata": {},
   "outputs": [],
   "source": [
    "import pandas as pd\n",
    "import requests"
   ]
  },
  {
   "cell_type": "code",
   "execution_count": 2,
   "id": "2dd3e7fc-a2b8-4dd8-83c7-f6dc321b8e2a",
   "metadata": {},
   "outputs": [],
   "source": [
    "pd.set_option('display.max_columns',28)"
   ]
  },
  {
   "cell_type": "code",
   "execution_count": 3,
   "id": "11a659e7-1238-4f1f-ab19-f5fa1c2bf295",
   "metadata": {},
   "outputs": [],
   "source": [
    "limit=1000\n",
    "offset=0\n",
    "params={\n",
    "    '$limit':limit,\n",
    "    '$offset':offset\n",
    "}"
   ]
  },
  {
   "cell_type": "code",
   "execution_count": 4,
   "id": "b36ea478-00b7-4c8d-8d0b-61df02f9cc1d",
   "metadata": {},
   "outputs": [],
   "source": [
    "url='https://data.buffalony.gov/resource/d6g9-xbgu.json'"
   ]
  },
  {
   "cell_type": "code",
   "execution_count": null,
   "id": "42851bae-1fb4-401a-ad46-e39df61ce573",
   "metadata": {},
   "outputs": [],
   "source": [
    "df_list=[]\n",
    "while True:\n",
    "    params={\n",
    "        '$limit':limit,\n",
    "        '$offset':offset\n",
    "    }\n",
    "    response=requests.get(url,params=params)\n",
    "    data=response.json()\n",
    "    df_page=pd.DataFrame(data)\n",
    "    if df_page.empty:\n",
    "        break\n",
    "    df_list.append(df_page)\n",
    "    offset+=limit\n",
    "df=pd.concat(df_list,ignore_index=True)"
   ]
  },
  {
   "cell_type": "code",
   "execution_count": null,
   "id": "7a58a82f-d31f-44a8-bd0f-a53fe3131e01",
   "metadata": {},
   "outputs": [],
   "source": [
    "df"
   ]
  },
  {
   "cell_type": "code",
   "execution_count": null,
   "id": "7eb7df43-d719-4cf7-9cfb-cbac570f13bf",
   "metadata": {},
   "outputs": [],
   "source": [
    "# df.drop(columns=[':@computed_region_jdfw_hhbp',':@computed_region_h7a8_iwt4',':@computed_region_h7a8_iwt4',':@computed_region_ff6v_jbaa',':@computed_region_vsen_jbmg',':@computed_region_nmyf_6jtp',':@computed_region_yg52_574g','created_at'],inplace=True)"
   ]
  },
  {
   "cell_type": "code",
   "execution_count": null,
   "id": "d1157c19-8bea-4232-b7ff-3122b2864ed0",
   "metadata": {},
   "outputs": [],
   "source": [
    "df"
   ]
  },
  {
   "cell_type": "code",
   "execution_count": null,
   "id": "09357875-710e-48de-b74b-52c1f3162812",
   "metadata": {},
   "outputs": [],
   "source": [
    "df.info()"
   ]
  },
  {
   "cell_type": "code",
   "execution_count": null,
   "id": "bd10e6dc-f291-4f0d-92b2-0f512612d0f8",
   "metadata": {},
   "outputs": [],
   "source": [
    "df.to_csv('crime_dataet_buffalo.csv')"
   ]
  },
  {
   "cell_type": "code",
   "execution_count": null,
   "id": "f3728bca-1196-4716-ad5e-6d9201f6240d",
   "metadata": {},
   "outputs": [],
   "source": []
  },
  {
   "cell_type": "code",
   "execution_count": null,
   "id": "39fff766-ec3e-4dd7-b5d3-a0c0741112e0",
   "metadata": {},
   "outputs": [],
   "source": [
    "df['incident_datetime']=pd.to_datetime(df['incident_datetime'],format='%Y-%m-%dT%H:%M:%S.%f')"
   ]
  },
  {
   "cell_type": "code",
   "execution_count": null,
   "id": "b33d92d8-5fe7-4118-bcf6-8f34e809d89e",
   "metadata": {},
   "outputs": [],
   "source": [
    "df['incident_description'].value_counts()"
   ]
  },
  {
   "cell_type": "code",
   "execution_count": null,
   "id": "a1afdadd-0a4c-43fb-accd-cc745d2f217d",
   "metadata": {},
   "outputs": [],
   "source": [
    "df['incident_description'] = df['incident_description'].str.replace(r'\\s+', ' ', regex=True)"
   ]
  },
  {
   "cell_type": "code",
   "execution_count": null,
   "id": "86f8f543-f732-4ab7-9746-047772dfcd0d",
   "metadata": {},
   "outputs": [],
   "source": [
    "df['indident_description']=df['incident_description'].str.replace('Buffalo Police are investigating this report of a crime.  It is important to note that this is very preliminary information and further investigation as to the facts and circumstances of this report may be necessary.','under investigation')\n",
    "df['incident_description']=df['incident_description'].str.replace('Buffalo Police are investigating this report of a crime. It is important to note that this is very preliminary information and further investigation as to the facts and circumstances of this report may be necessary.','under investigation')"
   ]
  },
  {
   "cell_type": "code",
   "execution_count": null,
   "id": "fa2fb0bd-a239-4ee6-a28f-599cc3fa8d45",
   "metadata": {},
   "outputs": [],
   "source": [
    "len('Buffalo Police are investigating this report of a crime. It is important to note that this is very preliminary information and further investigation as to the facts and circumstances of this report may be necessary.')"
   ]
  },
  {
   "cell_type": "code",
   "execution_count": null,
   "id": "dd3a476d-2a26-4df1-9e02-33e64aafd125",
   "metadata": {},
   "outputs": [],
   "source": [
    "df['incident_description']=df['incident_description'].str.replace('Buffalo Police are investigating this report of a crime. It is important to note that this is very preliminary information and further investigation as to the facts and circumstances of this report may be necessary.','under investigation')"
   ]
  },
  {
   "cell_type": "code",
   "execution_count": null,
   "id": "0b6f1920-4d93-47ed-8bc0-8c3e85233058",
   "metadata": {},
   "outputs": [],
   "source": [
    "df['incident_description'].value_counts()"
   ]
  },
  {
   "cell_type": "code",
   "execution_count": null,
   "id": "77aa7fc9-cf83-46e9-81b5-2efef66a1bb5",
   "metadata": {},
   "outputs": [],
   "source": []
  }
 ],
 "metadata": {
  "kernelspec": {
   "display_name": "Python 3 (ipykernel)",
   "language": "python",
   "name": "python3"
  },
  "language_info": {
   "codemirror_mode": {
    "name": "ipython",
    "version": 3
   },
   "file_extension": ".py",
   "mimetype": "text/x-python",
   "name": "python",
   "nbconvert_exporter": "python",
   "pygments_lexer": "ipython3",
   "version": "3.11.5"
  }
 },
 "nbformat": 4,
 "nbformat_minor": 5
}
