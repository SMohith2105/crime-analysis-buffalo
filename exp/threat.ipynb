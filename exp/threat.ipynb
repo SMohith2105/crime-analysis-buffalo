{
 "cells": [
  {
   "cell_type": "code",
   "execution_count": 1,
   "metadata": {},
   "outputs": [
    {
     "name": "stdout",
     "output_type": "stream",
     "text": [
      "Data fetched from the database successfully.\n"
     ]
    }
   ],
   "source": [
    "import sqlite3\n",
    "import pandas as pd\n",
    "\n",
    "def fetch_preprocessed_data_from_db(db_path='..\\db\\incidents.db'):\n",
    "    \"\"\"\n",
    "    Fetches preprocessed data directly from the SQLite database.\n",
    "    \n",
    "    Args:\n",
    "    - db_path (str): Path to the SQLite database.\n",
    "    \n",
    "    Returns:\n",
    "    - DataFrame: Preprocessed data as a Pandas DataFrame.\n",
    "    \"\"\"\n",
    "    # Connect to the SQLite database\n",
    "    conn = sqlite3.connect(db_path)\n",
    "    \n",
    "    # Query all data from the incidents table\n",
    "    query = \"SELECT * FROM incidents\"\n",
    "    df = pd.read_sql_query(query, conn)\n",
    "    \n",
    "    # Close the connection\n",
    "    conn.close()\n",
    "    return df\n",
    "\n",
    "# Fetch preprocessed data\n",
    "db_path = '..\\db\\incidents.db'  # Update this path if needed\n",
    "preprocessed_data = fetch_preprocessed_data_from_db(db_path)\n",
    "print(\"Data fetched from the database successfully.\")\n",
    "\n"
   ]
  },
  {
   "cell_type": "code",
   "execution_count": 7,
   "metadata": {},
   "outputs": [
    {
     "name": "stdout",
     "output_type": "stream",
     "text": [
      "Model and encoders saved successfully.\n",
      "Model and encoders saved successfully.\n",
      "Mean Squared Error: 86.60\n",
      "Mean Absolute Error: 6.70\n",
      "R² Score: 0.90\n"
     ]
    }
   ],
   "source": [
    "from xgboost import XGBRegressor\n",
    "from sklearn.model_selection import train_test_split\n",
    "from sklearn.preprocessing import OneHotEncoder\n",
    "from sklearn.metrics import mean_squared_error, mean_absolute_error, r2_score\n",
    "import joblib\n",
    "import pandas as pd\n",
    "import os\n",
    "\n",
    "# Prepare the data for training\n",
    "def prepare_data_for_training(df):\n",
    "    \"\"\"\n",
    "    Prepares data for model training by encoding categorical features and separating input and target variables.\n",
    "    \n",
    "    Args:\n",
    "    - df (DataFrame): Preprocessed data.\n",
    "    \n",
    "    Returns:\n",
    "    - X (DataFrame): Feature matrix.\n",
    "    - y (Series): Target variable.\n",
    "    \"\"\"\n",
    "    # Aggregate to calculate threat score (if not already provided)\n",
    "    threat_df = df.groupby(['neighborhood', 'day_of_week', 'hour']).size().reset_index(name='threat_score')\n",
    "\n",
    "    # Encode categorical variables\n",
    "    encoder = OneHotEncoder(sparse_output=False)\n",
    "    encoded_data = encoder.fit_transform(threat_df[['neighborhood', 'day_of_week']])\n",
    "    encoded_df = pd.DataFrame(encoded_data, columns=encoder.get_feature_names_out())\n",
    "\n",
    "    # Combine encoded features with numerical data\n",
    "    X = pd.concat([encoded_df, threat_df[['hour']].reset_index(drop=True)], axis=1)\n",
    "    y = threat_df['threat_score']\n",
    "\n",
    "    # Save the encoder for deployment\n",
    "    current_dir = os.getcwd()\n",
    "\n",
    "    # Create the 'data/risk' folder if it doesn't exist\n",
    "    encoder_directory = os.path.join(current_dir, '..', 'data', 'rithvik')\n",
    "    if not os.path.exists(encoder_directory):\n",
    "        os.makedirs(encoder_directory)\n",
    "\n",
    "    # Save the model and label encoders in the 'data/risk' folder\n",
    "    encoder_pkl = os.path.join(encoder_directory, 'encoder.pkl')\n",
    "    joblib.dump(encoder, encoder_pkl)\n",
    "    print(\"Model and encoders saved successfully.\")\n",
    "\n",
    "\n",
    "    return X, y\n",
    "\n",
    "# Prepare data for training\n",
    "X, y = prepare_data_for_training(preprocessed_data)\n",
    "\n",
    "# Split the data\n",
    "X_train, X_test, y_train, y_test = train_test_split(X, y, test_size=0.2, random_state=42)\n",
    "\n",
    "# Train the XGBoost model\n",
    "model = XGBRegressor(n_estimators=100, learning_rate=0.1, max_depth=6, random_state=42)\n",
    "model.fit(X_train, y_train)\n",
    "\n",
    "# Save the model\n",
    "current_dir = os.getcwd()\n",
    "\n",
    "# Create the 'data/risk' folder if it doesn't exist\n",
    "risk_directory = os.path.join(current_dir, '..', 'data', 'rithvik')\n",
    "if not os.path.exists(risk_directory):\n",
    "    os.makedirs(risk_directory)\n",
    "\n",
    "# Save the model and label encoders in the 'data/risk' folder\n",
    "threat_model = os.path.join(risk_directory, 'xg_boost_model.pkl')\n",
    "joblib.dump(model, threat_model)\n",
    "print(\"Model and encoders saved successfully.\")\n",
    "\n",
    "# Evaluate the model\n",
    "y_pred = model.predict(X_test)\n",
    "print(f\"Mean Squared Error: {mean_squared_error(y_test, y_pred):.2f}\")\n",
    "print(f\"Mean Absolute Error: {mean_absolute_error(y_test, y_pred):.2f}\")\n",
    "print(f\"R² Score: {r2_score(y_test, y_pred):.2f}\")\n"
   ]
  },
  {
   "cell_type": "code",
   "execution_count": null,
   "metadata": {},
   "outputs": [],
   "source": []
  }
 ],
 "metadata": {
  "kernelspec": {
   "display_name": "Python 3",
   "language": "python",
   "name": "python3"
  },
  "language_info": {
   "codemirror_mode": {
    "name": "ipython",
    "version": 3
   },
   "file_extension": ".py",
   "mimetype": "text/x-python",
   "name": "python",
   "nbconvert_exporter": "python",
   "pygments_lexer": "ipython3",
   "version": "3.11.9"
  }
 },
 "nbformat": 4,
 "nbformat_minor": 2
}
