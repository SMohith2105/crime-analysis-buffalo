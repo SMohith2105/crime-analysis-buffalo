{
 "cells": [
  {
   "cell_type": "code",
   "execution_count": 3,
   "metadata": {},
   "outputs": [],
   "source": [
    "import pandas as pd\n",
    "import numpy as np\n",
    "import sqlite3\n",
    "from sklearn.preprocessing import StandardScaler\n",
    "from sklearn.svm import SVC\n",
    "from sklearn.model_selection import train_test_split\n",
    "import joblib\n",
    "import os\n"
   ]
  },
  {
   "cell_type": "code",
   "execution_count": 4,
   "metadata": {},
   "outputs": [],
   "source": [
    "# Establish a connection to the SQLite database\n",
    "conn = sqlite3.connect('../db/incidents.db')\n",
    "# Load data\n",
    "query = \"SELECT * FROM incidents\"\n",
    "df = pd.read_sql_query(query, conn)\n",
    "conn.close()"
   ]
  },
  {
   "cell_type": "code",
   "execution_count": 5,
   "metadata": {},
   "outputs": [
    {
     "name": "stderr",
     "output_type": "stream",
     "text": [
      "/var/folders/74/kxw5x5pj4m37f03sw19cwf4c0000gp/T/ipykernel_25164/4251539691.py:2: UserWarning: Could not infer format, so each element will be parsed individually, falling back to `dateutil`. To ensure parsing is consistent and as-expected, please specify a format.\n",
      "  df['incident_datetime'] = pd.to_datetime(df['incident_datetime'])\n"
     ]
    }
   ],
   "source": [
    "# Preprocess data\n",
    "df['incident_datetime'] = pd.to_datetime(df['incident_datetime'])\n",
    "df['hour'] = df['incident_datetime'].dt.hour\n",
    "df['day_of_week'] = df['incident_datetime'].dt.dayofweek\n",
    "df['month'] = df['incident_datetime'].dt.month"
   ]
  },
  {
   "cell_type": "code",
   "execution_count": 6,
   "metadata": {},
   "outputs": [
    {
     "name": "stderr",
     "output_type": "stream",
     "text": [
      "/var/folders/74/kxw5x5pj4m37f03sw19cwf4c0000gp/T/ipykernel_25164/2021693780.py:3: SettingWithCopyWarning: \n",
      "A value is trying to be set on a copy of a slice from a DataFrame\n",
      "\n",
      "See the caveats in the documentation: https://pandas.pydata.org/pandas-docs/stable/user_guide/indexing.html#returning-a-view-versus-a-copy\n",
      "  df_filtered.dropna(inplace=True)  # Ensure no missing values\n"
     ]
    }
   ],
   "source": [
    "# Filter columns\n",
    "df_filtered = df[['neighborhood', 'incident_type_primary', 'hour', 'day_of_week', 'month']]\n",
    "df_filtered.dropna(inplace=True)  # Ensure no missing values"
   ]
  },
  {
   "cell_type": "code",
   "execution_count": 7,
   "metadata": {},
   "outputs": [],
   "source": [
    "current_dir = os.getcwd()\n",
    "# Directory to save models\n",
    "model_dir = os.path.join(current_dir, '..', 'data', 'trends')\n",
    "if not os.path.exists(model_dir):\n",
    "    os.makedirs(model_dir)"
   ]
  },
  {
   "cell_type": "code",
   "execution_count": 8,
   "metadata": {},
   "outputs": [],
   "source": [
    "# Train a model for each neighborhood\n",
    "neighborhoods = df_filtered['neighborhood'].unique()\n",
    "for neighborhood in neighborhoods:\n",
    "    data = df_filtered[df_filtered['neighborhood'] == neighborhood]\n",
    "    X = data[['hour', 'day_of_week', 'month']]\n",
    "    y = data['incident_type_primary']  # Keep as string\n",
    "\n",
    "    if len(np.unique(y)) > 1:  # Ensure there is more than one class\n",
    "        # Split data\n",
    "        X_train, X_test, y_train, y_test = train_test_split(X, y, test_size=0.2, random_state=42)\n",
    "\n",
    "        # Scale features\n",
    "        scaler = StandardScaler()\n",
    "        X_train_scaled = scaler.fit_transform(X_train)\n",
    "        X_test_scaled = scaler.transform(X_test)\n",
    "\n",
    "        # Train SVM\n",
    "        svm_model = SVC(probability=True, random_state=42)\n",
    "        svm_model.fit(X_train_scaled, y_train)\n",
    "\n",
    "        # Save model and scaler\n",
    "        joblib.dump(svm_model, os.path.join(model_dir, f'svm_{neighborhood}.pkl'))\n",
    "        joblib.dump(scaler, os.path.join(model_dir, f'scaler_{neighborhood}.pkl'))"
   ]
  }
 ],
 "metadata": {
  "kernelspec": {
   "display_name": "3.11.4",
   "language": "python",
   "name": "python3"
  },
  "language_info": {
   "codemirror_mode": {
    "name": "ipython",
    "version": 3
   },
   "file_extension": ".py",
   "mimetype": "text/x-python",
   "name": "python",
   "nbconvert_exporter": "python",
   "pygments_lexer": "ipython3",
   "version": "3.11.4"
  }
 },
 "nbformat": 4,
 "nbformat_minor": 2
}
