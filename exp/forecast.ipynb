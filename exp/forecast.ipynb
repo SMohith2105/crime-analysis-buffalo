{
 "cells": [
  {
   "cell_type": "code",
   "execution_count": null,
   "metadata": {},
   "outputs": [],
   "source": []
  },
  {
   "cell_type": "code",
   "execution_count": 22,
   "metadata": {},
   "outputs": [],
   "source": [
    "import pandas as pd\n",
    "from prophet import Prophet\n",
    "import joblib\n",
    "from datetime import datetime\n",
    "import sqlite3\n",
    "import numpy as np\n",
    "import os\n",
    "\n"
   ]
  },
  {
   "cell_type": "code",
   "execution_count": 23,
   "metadata": {},
   "outputs": [],
   "source": [
    "# Connect to the SQLite database\n",
    "conn = sqlite3.connect('../db/incidents.db')\n",
    "# Fetch data from the database\n",
    "query = \"SELECT * FROM incidents WHERE incident_datetime >= '2009-01-01'\"\n",
    "df = pd.read_sql_query(query, conn)\n",
    "# Close the database connection\n",
    "conn.close()"
   ]
  },
  {
   "cell_type": "code",
   "execution_count": 24,
   "metadata": {},
   "outputs": [],
   "source": [
    "# Convert incident_datetime to datetime objects\n",
    "df['incident_datetime'] = pd.to_datetime(df['incident_datetime'])\n",
    "# Assume df_filtered is the preprocessed dataframe from previous steps\n",
    "df_filtered = df  # You may need to add your preprocessing steps here"
   ]
  },
  {
   "cell_type": "code",
   "execution_count": 25,
   "metadata": {},
   "outputs": [],
   "source": [
    "# Aggregate data by date and neighborhood\n",
    "df_filtered['date'] = df_filtered['incident_datetime'].dt.date\n",
    "crime_data = df_filtered.groupby(['date', 'neighborhood']).size().reset_index(name='crime_count')\n",
    "# Prepare data for Prophet\n",
    "crime_data = crime_data.rename(columns={'date': 'ds', 'crime_count': 'y'})"
   ]
  },
  {
   "cell_type": "code",
   "execution_count": 26,
   "metadata": {},
   "outputs": [],
   "source": [
    "# Function to create and fit a Prophet model\n",
    "def fit_prophet_model(data):\n",
    "    model = Prophet()\n",
    "    model.fit(data)\n",
    "    return model"
   ]
  },
  {
   "cell_type": "code",
   "execution_count": 27,
   "metadata": {},
   "outputs": [],
   "source": [
    "# Function to create future dataframe and make predictions\n",
    "def make_forecast(model, periods=365):\n",
    "    future = model.make_future_dataframe(periods=periods)\n",
    "    forecast = model.predict(future)\n",
    "    return forecast"
   ]
  },
  {
   "cell_type": "code",
   "execution_count": 28,
   "metadata": {},
   "outputs": [],
   "source": [
    "# Create a dictionary to store models and forecasts for each neighborhood\n",
    "models = {}\n",
    "forecasts = {}\n",
    "neighborhoods = df_filtered['neighborhood'].unique()"
   ]
  },
  {
   "cell_type": "code",
   "execution_count": 29,
   "metadata": {},
   "outputs": [
    {
     "name": "stderr",
     "output_type": "stream",
     "text": [
      "18:21:54 - cmdstanpy - INFO - Chain [1] start processing\n",
      "18:21:55 - cmdstanpy - INFO - Chain [1] done processing\n",
      "18:21:55 - cmdstanpy - INFO - Chain [1] start processing\n",
      "18:21:56 - cmdstanpy - INFO - Chain [1] done processing\n",
      "18:21:56 - cmdstanpy - INFO - Chain [1] start processing\n",
      "18:21:56 - cmdstanpy - INFO - Chain [1] done processing\n",
      "18:21:57 - cmdstanpy - INFO - Chain [1] start processing\n",
      "18:21:57 - cmdstanpy - INFO - Chain [1] done processing\n",
      "18:21:58 - cmdstanpy - INFO - Chain [1] start processing\n",
      "18:21:58 - cmdstanpy - INFO - Chain [1] done processing\n",
      "18:21:58 - cmdstanpy - INFO - Chain [1] start processing\n",
      "18:21:59 - cmdstanpy - INFO - Chain [1] done processing\n",
      "18:21:59 - cmdstanpy - INFO - Chain [1] start processing\n",
      "18:21:59 - cmdstanpy - INFO - Chain [1] done processing\n",
      "18:22:00 - cmdstanpy - INFO - Chain [1] start processing\n",
      "18:22:00 - cmdstanpy - INFO - Chain [1] done processing\n",
      "18:22:01 - cmdstanpy - INFO - Chain [1] start processing\n",
      "18:22:01 - cmdstanpy - INFO - Chain [1] done processing\n",
      "18:22:02 - cmdstanpy - INFO - Chain [1] start processing\n",
      "18:22:02 - cmdstanpy - INFO - Chain [1] done processing\n",
      "18:22:02 - cmdstanpy - INFO - Chain [1] start processing\n",
      "18:22:02 - cmdstanpy - INFO - Chain [1] done processing\n",
      "18:22:03 - cmdstanpy - INFO - Chain [1] start processing\n",
      "18:22:03 - cmdstanpy - INFO - Chain [1] done processing\n",
      "18:22:04 - cmdstanpy - INFO - Chain [1] start processing\n",
      "18:22:04 - cmdstanpy - INFO - Chain [1] done processing\n",
      "18:22:05 - cmdstanpy - INFO - Chain [1] start processing\n",
      "18:22:05 - cmdstanpy - INFO - Chain [1] done processing\n",
      "18:22:05 - cmdstanpy - INFO - Chain [1] start processing\n",
      "18:22:06 - cmdstanpy - INFO - Chain [1] done processing\n",
      "18:22:06 - cmdstanpy - INFO - Chain [1] start processing\n",
      "18:22:07 - cmdstanpy - INFO - Chain [1] done processing\n",
      "18:22:07 - cmdstanpy - INFO - Chain [1] start processing\n",
      "18:22:07 - cmdstanpy - INFO - Chain [1] done processing\n",
      "18:22:08 - cmdstanpy - INFO - Chain [1] start processing\n",
      "18:22:08 - cmdstanpy - INFO - Chain [1] done processing\n",
      "18:22:09 - cmdstanpy - INFO - Chain [1] start processing\n",
      "18:22:09 - cmdstanpy - INFO - Chain [1] done processing\n",
      "18:22:09 - cmdstanpy - INFO - Chain [1] start processing\n",
      "18:22:10 - cmdstanpy - INFO - Chain [1] done processing\n",
      "18:22:10 - cmdstanpy - INFO - Chain [1] start processing\n",
      "18:22:10 - cmdstanpy - INFO - Chain [1] done processing\n",
      "18:22:11 - cmdstanpy - INFO - Chain [1] start processing\n",
      "18:22:11 - cmdstanpy - INFO - Chain [1] done processing\n",
      "18:22:12 - cmdstanpy - INFO - Chain [1] start processing\n",
      "18:22:12 - cmdstanpy - INFO - Chain [1] done processing\n",
      "18:22:13 - cmdstanpy - INFO - Chain [1] start processing\n",
      "18:22:13 - cmdstanpy - INFO - Chain [1] done processing\n",
      "18:22:13 - cmdstanpy - INFO - Chain [1] start processing\n",
      "18:22:14 - cmdstanpy - INFO - Chain [1] done processing\n",
      "18:22:14 - cmdstanpy - INFO - Chain [1] start processing\n",
      "18:22:14 - cmdstanpy - INFO - Chain [1] done processing\n",
      "18:22:15 - cmdstanpy - INFO - Chain [1] start processing\n",
      "18:22:15 - cmdstanpy - INFO - Chain [1] done processing\n",
      "18:22:16 - cmdstanpy - INFO - Chain [1] start processing\n",
      "18:22:16 - cmdstanpy - INFO - Chain [1] done processing\n",
      "18:22:17 - cmdstanpy - INFO - Chain [1] start processing\n",
      "18:22:17 - cmdstanpy - INFO - Chain [1] done processing\n",
      "18:22:17 - cmdstanpy - INFO - Chain [1] start processing\n",
      "18:22:17 - cmdstanpy - INFO - Chain [1] done processing\n",
      "18:22:18 - cmdstanpy - INFO - Chain [1] start processing\n",
      "18:22:18 - cmdstanpy - INFO - Chain [1] done processing\n",
      "18:22:19 - cmdstanpy - INFO - Chain [1] start processing\n",
      "18:22:19 - cmdstanpy - INFO - Chain [1] done processing\n",
      "18:22:19 - cmdstanpy - INFO - Chain [1] start processing\n",
      "18:22:19 - cmdstanpy - INFO - Chain [1] done processing\n",
      "18:22:20 - cmdstanpy - INFO - Chain [1] start processing\n",
      "18:22:20 - cmdstanpy - INFO - Chain [1] done processing\n",
      "18:22:20 - cmdstanpy - INFO - Chain [1] start processing\n",
      "18:22:20 - cmdstanpy - INFO - Chain [1] done processing\n"
     ]
    }
   ],
   "source": [
    "# Fit a model for each neighborhood\n",
    "for neighborhood in neighborhoods:\n",
    "    neighborhood_data = crime_data[crime_data['neighborhood'] == neighborhood]\n",
    "    if len(neighborhood_data) > 0:  # Ensure there is data for the neighborhood\n",
    "        model = fit_prophet_model(neighborhood_data)\n",
    "        forecast = make_forecast(model)\n",
    "        models[neighborhood] = model\n",
    "        forecasts[neighborhood] = forecast"
   ]
  },
  {
   "cell_type": "code",
   "execution_count": 30,
   "metadata": {},
   "outputs": [
    {
     "name": "stderr",
     "output_type": "stream",
     "text": [
      "18:22:21 - cmdstanpy - INFO - Chain [1] start processing\n",
      "18:22:21 - cmdstanpy - INFO - Chain [1] done processing\n"
     ]
    }
   ],
   "source": [
    "# Fit a model for the whole of Buffalo\n",
    "buffalo_data = df_filtered.groupby('date').size().reset_index(name='crime_count')\n",
    "buffalo_data = buffalo_data.rename(columns={'date': 'ds', 'crime_count': 'y'})\n",
    "buffalo_model = fit_prophet_model(buffalo_data)\n",
    "buffalo_forecast = make_forecast(buffalo_model)"
   ]
  },
  {
   "cell_type": "code",
   "execution_count": 31,
   "metadata": {},
   "outputs": [],
   "source": [
    "# Get the current working directory\n",
    "current_dir = os.getcwd()\n",
    "# Create the 'data/forecast' folder if it doesn't exist\n",
    "forecast_directory = os.path.join(current_dir, '..', 'data', 'forecast')\n",
    "if not os.path.exists(forecast_directory):\n",
    "    os.makedirs(forecast_directory)"
   ]
  },
  {
   "cell_type": "code",
   "execution_count": 32,
   "metadata": {},
   "outputs": [],
   "source": [
    "# Save the Buffalo forecast\n",
    "buffalo_forecast_path = os.path.join(forecast_directory, 'buffalo_crime_forecast.csv')\n",
    "buffalo_forecast.to_csv(buffalo_forecast_path, index=False)"
   ]
  },
  {
   "cell_type": "code",
   "execution_count": 33,
   "metadata": {},
   "outputs": [
    {
     "name": "stdout",
     "output_type": "stream",
     "text": [
      "Models and forecasts saved successfully.\n"
     ]
    }
   ],
   "source": [
    "# Save models and forecasts for each neighborhood\n",
    "for neighborhood, model in models.items():\n",
    "    forecast_path = os.path.join(forecast_directory, f'forecast_{neighborhood}.csv')\n",
    "    forecasts[neighborhood].to_csv(forecast_path, index=False)\n",
    "print(\"Models and forecasts saved successfully.\")"
   ]
  }
 ],
 "metadata": {
  "kernelspec": {
   "display_name": "3.11.4",
   "language": "python",
   "name": "python3"
  },
  "language_info": {
   "codemirror_mode": {
    "name": "ipython",
    "version": 3
   },
   "file_extension": ".py",
   "mimetype": "text/x-python",
   "name": "python",
   "nbconvert_exporter": "python",
   "pygments_lexer": "ipython3",
   "version": "3.11.4"
  }
 },
 "nbformat": 4,
 "nbformat_minor": 2
}
