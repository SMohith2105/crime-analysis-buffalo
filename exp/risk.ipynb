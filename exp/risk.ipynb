{
 "cells": [
  {
   "cell_type": "code",
   "execution_count": 1,
   "metadata": {},
   "outputs": [
    {
     "name": "stderr",
     "output_type": "stream",
     "text": [
      "C:\\Users\\rithv\\AppData\\Local\\Temp\\ipykernel_21752\\3092768404.py:33: SettingWithCopyWarning: \n",
      "A value is trying to be set on a copy of a slice from a DataFrame.\n",
      "Try using .loc[row_indexer,col_indexer] = value instead\n",
      "\n",
      "See the caveats in the documentation: https://pandas.pydata.org/pandas-docs/stable/user_guide/indexing.html#returning-a-view-versus-a-copy\n",
      "  X['neighborhood'] = le_neighborhood.fit_transform(X['neighborhood'])\n"
     ]
    },
    {
     "name": "stdout",
     "output_type": "stream",
     "text": [
      "Model and encoders saved successfully.\n"
     ]
    }
   ],
   "source": [
    "import pandas as pd\n",
    "import numpy as np\n",
    "from sklearn.ensemble import RandomForestClassifier\n",
    "from sklearn.model_selection import train_test_split\n",
    "from sklearn.preprocessing import LabelEncoder\n",
    "import joblib\n",
    "import sqlite3\n",
    "import os\n",
    "\n",
    "# Connect to the SQLite database\n",
    "conn = sqlite3.connect('..\\db\\incidents.db')\n",
    "\n",
    "# Load data from the database\n",
    "query = \"SELECT * FROM incidents WHERE incident_datetime >= '2009-01-01'\"\n",
    "df = pd.read_sql_query(query, conn)\n",
    "\n",
    "# Close the database connection\n",
    "conn.close()\n",
    "\n",
    "# Preprocess the data\n",
    "df['incident_datetime'] = pd.to_datetime(df['incident_datetime'])\n",
    "df['day_of_week'] = df['incident_datetime'].dt.dayofweek\n",
    "df['hour'] = df['incident_datetime'].dt.hour\n",
    "\n",
    "# Prepare features and target\n",
    "X = df[['day_of_week', 'hour', 'neighborhood']]\n",
    "y = df['incident_type_primary']\n",
    "\n",
    "# Encode categorical variables\n",
    "le_neighborhood = LabelEncoder()\n",
    "le_incident_type = LabelEncoder()\n",
    "\n",
    "X['neighborhood'] = le_neighborhood.fit_transform(X['neighborhood'])\n",
    "y = le_incident_type.fit_transform(y)\n",
    "\n",
    "# Split the data\n",
    "X_train, X_test, y_train, y_test = train_test_split(X, y, test_size=0.2, random_state=42)\n",
    "\n",
    "# Train the model\n",
    "rf = RandomForestClassifier(n_estimators=100, random_state=42)\n",
    "rf.fit(X_train, y_train)\n",
    "\n",
    "# Get the current working directory\n",
    "current_dir = os.getcwd()\n",
    "\n",
    "# Create the 'data/risk' folder if it doesn't exist\n",
    "risk_directory = os.path.join(current_dir, '..', 'data', 'risk')\n",
    "if not os.path.exists(risk_directory):\n",
    "    os.makedirs(risk_directory)\n",
    "\n",
    "# Save the model and label encoders in the 'data/risk' folder\n",
    "crime_risk_model_path = os.path.join(risk_directory, 'crime_risk_model.pkl')\n",
    "joblib.dump(rf, crime_risk_model_path)\n",
    "\n",
    "le_neighborhood_path = os.path.join(risk_directory, 'le_neighborhood.pkl')\n",
    "joblib.dump(le_neighborhood, le_neighborhood_path)\n",
    "\n",
    "le_incident_type_path = os.path.join(risk_directory, 'le_incident_type.pkl')\n",
    "joblib.dump(le_incident_type, le_incident_type_path)\n",
    "print(\"Model and encoders saved successfully.\")"
   ]
  },
  {
   "cell_type": "code",
   "execution_count": null,
   "metadata": {},
   "outputs": [],
   "source": []
  }
 ],
 "metadata": {
  "kernelspec": {
   "display_name": "Python 3",
   "language": "python",
   "name": "python3"
  },
  "language_info": {
   "codemirror_mode": {
    "name": "ipython",
    "version": 3
   },
   "file_extension": ".py",
   "mimetype": "text/x-python",
   "name": "python",
   "nbconvert_exporter": "python",
   "pygments_lexer": "ipython3",
   "version": "3.11.9"
  }
 },
 "nbformat": 4,
 "nbformat_minor": 2
}
