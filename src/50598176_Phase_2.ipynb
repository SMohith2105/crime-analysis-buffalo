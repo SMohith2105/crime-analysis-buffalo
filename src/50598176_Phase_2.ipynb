{
 "cells": [
  {
   "cell_type": "code",
   "execution_count": 60,
   "metadata": {
    "id": "8sZ4OCPxMq04"
   },
   "outputs": [],
   "source": [
    "import pandas as pd\n",
    "import requests\n",
    "from datetime import datetime\n",
    "import numpy as np\n",
    "import geopandas as gpd"
   ]
  },
  {
   "cell_type": "code",
   "execution_count": 61,
   "metadata": {
    "id": "_jl65cRyM5Tk"
   },
   "outputs": [],
   "source": [
    "url='https://data.buffalony.gov/resource/d6g9-xbgu.json'"
   ]
  },
  {
   "cell_type": "code",
   "execution_count": 38,
   "metadata": {
    "id": "Jo4o_NTeM-CZ"
   },
   "outputs": [],
   "source": [
    "df_list = []\n",
    "offset = 0\n",
    "limit = 1000  # Adjust this value as needed\n",
    "cutoff_date = datetime(2009, 1, 1)  # Set the cutoff date to the end of 2009\n",
    "\n",
    "while True:\n",
    "    params = {\n",
    "        '$limit': limit,\n",
    "        '$offset': offset,\n",
    "        '$order': 'incident_datetime DESC'  # Sort by incident_datetime in descending order\n",
    "    }\n",
    "    response = requests.get(url, params=params)\n",
    "    data = response.json()\n",
    "    df_page = pd.DataFrame(data)\n",
    "\n",
    "    if df_page.empty:\n",
    "        break\n",
    "\n",
    "    # Convert incident_datetime to datetime objects\n",
    "    df_page['incident_datetime'] = pd.to_datetime(df_page['incident_datetime'])\n",
    "\n",
    "    # Check if we've reached data before or equal to 2009\n",
    "    if df_page['incident_datetime'].min() <= cutoff_date:\n",
    "        # Filter out rows after 2009\n",
    "        df_page = df_page[df_page['incident_datetime'] <= cutoff_date]\n",
    "        df_list.append(df_page)\n",
    "        break\n",
    "\n",
    "    df_list.append(df_page)\n",
    "    offset += limit\n",
    "\n",
    "df = pd.concat(df_list, ignore_index=True)"
   ]
  },
  {
   "cell_type": "code",
   "execution_count": 39,
   "metadata": {
    "id": "mkmiDL4hOvm4"
   },
   "outputs": [],
   "source": [
    "df.to_csv('dataset.csv')"
   ]
  },
  {
   "cell_type": "code",
   "execution_count": 40,
   "metadata": {
    "colab": {
     "base_uri": "https://localhost:8080/",
     "height": 589
    },
    "id": "ZMCbvMWWO69R",
    "outputId": "5ea6deae-35e0-440a-9a1d-fd59ff981bf5"
   },
   "outputs": [
    {
     "data": {
      "text/html": [
       "<div>\n",
       "<style scoped>\n",
       "    .dataframe tbody tr th:only-of-type {\n",
       "        vertical-align: middle;\n",
       "    }\n",
       "\n",
       "    .dataframe tbody tr th {\n",
       "        vertical-align: top;\n",
       "    }\n",
       "\n",
       "    .dataframe thead th {\n",
       "        text-align: right;\n",
       "    }\n",
       "</style>\n",
       "<table border=\"1\" class=\"dataframe\">\n",
       "  <thead>\n",
       "    <tr style=\"text-align: right;\">\n",
       "      <th></th>\n",
       "      <th>count</th>\n",
       "    </tr>\n",
       "    <tr>\n",
       "      <th>incident_description</th>\n",
       "      <th></th>\n",
       "    </tr>\n",
       "  </thead>\n",
       "  <tbody>\n",
       "    <tr>\n",
       "      <th>Buffalo Police are investigating this report of a crime.  It is important to note that this is very preliminary information and further investigation as to the facts and circumstances of this report may be necessary.</th>\n",
       "      <td>251377</td>\n",
       "    </tr>\n",
       "    <tr>\n",
       "      <th>Buffalo Police are investigating this report of a crime. It is important to note that this is very preliminary information and further investigation as to the facts and circumstances of this report may be necessary.</th>\n",
       "      <td>5177</td>\n",
       "    </tr>\n",
       "    <tr>\n",
       "      <th>LARCENY/THEFT</th>\n",
       "      <td>2012</td>\n",
       "    </tr>\n",
       "    <tr>\n",
       "      <th>BURGLARY</th>\n",
       "      <td>1061</td>\n",
       "    </tr>\n",
       "    <tr>\n",
       "      <th>ASSAULT</th>\n",
       "      <td>704</td>\n",
       "    </tr>\n",
       "    <tr>\n",
       "      <th>SEXUAL ABUSE</th>\n",
       "      <td>146</td>\n",
       "    </tr>\n",
       "    <tr>\n",
       "      <th>UUV</th>\n",
       "      <td>111</td>\n",
       "    </tr>\n",
       "    <tr>\n",
       "      <th>RAPE</th>\n",
       "      <td>72</td>\n",
       "    </tr>\n",
       "    <tr>\n",
       "      <th>ROBBERY</th>\n",
       "      <td>36</td>\n",
       "    </tr>\n",
       "    <tr>\n",
       "      <th>CRIM NEGLIGENT HOMICIDE</th>\n",
       "      <td>22</td>\n",
       "    </tr>\n",
       "    <tr>\n",
       "      <th>THEFT OF SERVICES</th>\n",
       "      <td>12</td>\n",
       "    </tr>\n",
       "    <tr>\n",
       "      <th>AGG ASSAULT ON P/OFFICER</th>\n",
       "      <td>2</td>\n",
       "    </tr>\n",
       "    <tr>\n",
       "      <th>AGGR ASSAULT</th>\n",
       "      <td>2</td>\n",
       "    </tr>\n",
       "    <tr>\n",
       "      <th>MURDER</th>\n",
       "      <td>2</td>\n",
       "    </tr>\n",
       "  </tbody>\n",
       "</table>\n",
       "</div><br><label><b>dtype:</b> int64</label>"
      ],
      "text/plain": [
       "incident_description\n",
       "Buffalo Police are investigating this report of a crime.  It is important to note that this is very preliminary information and further investigation as to the facts and circumstances of this report may be necessary.    251377\n",
       "Buffalo Police are investigating this report of a crime. It is important to note that this is very preliminary information and further investigation as to the facts and circumstances of this report may be necessary.       5177\n",
       "LARCENY/THEFT                                                                                                                                                                                                                 2012\n",
       "BURGLARY                                                                                                                                                                                                                      1061\n",
       "ASSAULT                                                                                                                                                                                                                        704\n",
       "SEXUAL ABUSE                                                                                                                                                                                                                   146\n",
       "UUV                                                                                                                                                                                                                            111\n",
       "RAPE                                                                                                                                                                                                                            72\n",
       "ROBBERY                                                                                                                                                                                                                         36\n",
       "CRIM NEGLIGENT HOMICIDE                                                                                                                                                                                                         22\n",
       "THEFT OF SERVICES                                                                                                                                                                                                               12\n",
       "AGG ASSAULT ON P/OFFICER                                                                                                                                                                                                         2\n",
       "AGGR ASSAULT                                                                                                                                                                                                                     2\n",
       "MURDER                                                                                                                                                                                                                           2\n",
       "Name: count, dtype: int64"
      ]
     },
     "execution_count": 40,
     "metadata": {},
     "output_type": "execute_result"
    }
   ],
   "source": [
    "df['incident_description'].value_counts()"
   ]
  },
  {
   "cell_type": "code",
   "execution_count": 41,
   "metadata": {
    "id": "0rvfoCi4QPpR"
   },
   "outputs": [],
   "source": [
    "'''\n",
    "As we can see above, there are two same incident descriptions with an extra space in one of them in the incident_description column.\n",
    "So, this can be rectified using regex. 'r\\s+' identifies unwanted spaces in the middle of the text and the rreplace method replaces it with a single space.\n",
    "'''\n",
    "df['incident_description'] = df['incident_description'].str.replace(r'\\s+', ' ', regex=True)"
   ]
  },
  {
   "cell_type": "code",
   "execution_count": 42,
   "metadata": {
    "id": "ErJ42mXHQqst"
   },
   "outputs": [],
   "source": [
    "\n",
    "df['incident_description']=df['incident_description'].str.replace('Buffalo Police are investigating this report of a crime. It is important to note that this is very preliminary information and further investigation as to the facts and circumstances of this report may be necessary.','under investigation')"
   ]
  },
  {
   "cell_type": "code",
   "execution_count": 43,
   "metadata": {
    "id": "yqu4IFfmQsEW"
   },
   "outputs": [],
   "source": [
    "df['incident_description']=df['incident_description'].str.replace('Buffalo Police are investigating this report of a crime. It is important to note that this is very preliminary information and further investigation as to the facts and circumstances of this report may be necessary.','under investigation')"
   ]
  },
  {
   "cell_type": "code",
   "execution_count": 44,
   "metadata": {
    "id": "7x5yLY0oQxXq"
   },
   "outputs": [],
   "source": [
    "df=df.replace('UNKNOWN',np.nan)"
   ]
  },
  {
   "cell_type": "code",
   "execution_count": 45,
   "metadata": {
    "id": "VTTB8hSuQ06o"
   },
   "outputs": [],
   "source": [
    "df=df.sort_values(by='incident_datetime')"
   ]
  },
  {
   "cell_type": "code",
   "execution_count": 46,
   "metadata": {
    "id": "4694CCxQQ4tj"
   },
   "outputs": [],
   "source": [
    "df['year'] = df['incident_datetime'].dt.year\n",
    "df['month'] = df['incident_datetime'].dt.month\n",
    "df['day'] = df['incident_datetime'].dt.day\n",
    "df['weekday'] = df['incident_datetime'].dt.weekday\n",
    "df['hour'] = df['incident_datetime'].dt.hour\n"
   ]
  },
  {
   "cell_type": "code",
   "execution_count": 47,
   "metadata": {
    "id": "egVWqxElQ8cF"
   },
   "outputs": [],
   "source": [
    "df['incident_type_primary']=df['incident_type_primary'].str.lower()\n",
    "df['parent_incident_type']=df['parent_incident_type'].str.lower()\n",
    "df['address_1']=df['address_1'].str.lower()"
   ]
  },
  {
   "cell_type": "code",
   "execution_count": 48,
   "metadata": {
    "id": "Fa-7ZJ6MRA8Y"
   },
   "outputs": [],
   "source": [
    "df['latitude']=df['latitude'].astype('float64')\n",
    "df['longitude']=df['longitude'].astype('float64')"
   ]
  },
  {
   "cell_type": "code",
   "execution_count": 49,
   "metadata": {
    "colab": {
     "base_uri": "https://localhost:8080/",
     "height": 1000
    },
    "id": "_75Dtw2IREyc",
    "outputId": "4bddf9b2-0292-4e0f-d0dd-ea38fcc2d54e"
   },
   "outputs": [
    {
     "data": {
      "text/html": [
       "<div>\n",
       "<style scoped>\n",
       "    .dataframe tbody tr th:only-of-type {\n",
       "        vertical-align: middle;\n",
       "    }\n",
       "\n",
       "    .dataframe tbody tr th {\n",
       "        vertical-align: top;\n",
       "    }\n",
       "\n",
       "    .dataframe thead th {\n",
       "        text-align: right;\n",
       "    }\n",
       "</style>\n",
       "<table border=\"1\" class=\"dataframe\">\n",
       "  <thead>\n",
       "    <tr style=\"text-align: right;\">\n",
       "      <th></th>\n",
       "      <th>0</th>\n",
       "    </tr>\n",
       "  </thead>\n",
       "  <tbody>\n",
       "    <tr>\n",
       "      <th>case_number</th>\n",
       "      <td>0</td>\n",
       "    </tr>\n",
       "    <tr>\n",
       "      <th>incident_datetime</th>\n",
       "      <td>0</td>\n",
       "    </tr>\n",
       "    <tr>\n",
       "      <th>incident_type_primary</th>\n",
       "      <td>0</td>\n",
       "    </tr>\n",
       "    <tr>\n",
       "      <th>incident_description</th>\n",
       "      <td>0</td>\n",
       "    </tr>\n",
       "    <tr>\n",
       "      <th>parent_incident_type</th>\n",
       "      <td>0</td>\n",
       "    </tr>\n",
       "    <tr>\n",
       "      <th>hour_of_day</th>\n",
       "      <td>0</td>\n",
       "    </tr>\n",
       "    <tr>\n",
       "      <th>day_of_week</th>\n",
       "      <td>0</td>\n",
       "    </tr>\n",
       "    <tr>\n",
       "      <th>address_1</th>\n",
       "      <td>33</td>\n",
       "    </tr>\n",
       "    <tr>\n",
       "      <th>city</th>\n",
       "      <td>0</td>\n",
       "    </tr>\n",
       "    <tr>\n",
       "      <th>state</th>\n",
       "      <td>0</td>\n",
       "    </tr>\n",
       "    <tr>\n",
       "      <th>location</th>\n",
       "      <td>6087</td>\n",
       "    </tr>\n",
       "    <tr>\n",
       "      <th>latitude</th>\n",
       "      <td>6087</td>\n",
       "    </tr>\n",
       "    <tr>\n",
       "      <th>longitude</th>\n",
       "      <td>6087</td>\n",
       "    </tr>\n",
       "    <tr>\n",
       "      <th>created_at</th>\n",
       "      <td>189018</td>\n",
       "    </tr>\n",
       "    <tr>\n",
       "      <th>zip_code</th>\n",
       "      <td>3377</td>\n",
       "    </tr>\n",
       "    <tr>\n",
       "      <th>neighborhood</th>\n",
       "      <td>6075</td>\n",
       "    </tr>\n",
       "    <tr>\n",
       "      <th>council_district</th>\n",
       "      <td>2388</td>\n",
       "    </tr>\n",
       "    <tr>\n",
       "      <th>council_district_2011</th>\n",
       "      <td>3431</td>\n",
       "    </tr>\n",
       "    <tr>\n",
       "      <th>census_tract</th>\n",
       "      <td>5982</td>\n",
       "    </tr>\n",
       "    <tr>\n",
       "      <th>census_block_group</th>\n",
       "      <td>5982</td>\n",
       "    </tr>\n",
       "    <tr>\n",
       "      <th>census_block</th>\n",
       "      <td>5982</td>\n",
       "    </tr>\n",
       "    <tr>\n",
       "      <th>census_tract_2010</th>\n",
       "      <td>19529</td>\n",
       "    </tr>\n",
       "    <tr>\n",
       "      <th>census_block_group_2010</th>\n",
       "      <td>19561</td>\n",
       "    </tr>\n",
       "    <tr>\n",
       "      <th>census_block_2010</th>\n",
       "      <td>19531</td>\n",
       "    </tr>\n",
       "    <tr>\n",
       "      <th>police_district</th>\n",
       "      <td>5989</td>\n",
       "    </tr>\n",
       "    <tr>\n",
       "      <th>tractce20</th>\n",
       "      <td>5982</td>\n",
       "    </tr>\n",
       "    <tr>\n",
       "      <th>geoid20_tract</th>\n",
       "      <td>5982</td>\n",
       "    </tr>\n",
       "    <tr>\n",
       "      <th>geoid20_blockgroup</th>\n",
       "      <td>5982</td>\n",
       "    </tr>\n",
       "    <tr>\n",
       "      <th>geoid20_block</th>\n",
       "      <td>5982</td>\n",
       "    </tr>\n",
       "    <tr>\n",
       "      <th>year</th>\n",
       "      <td>0</td>\n",
       "    </tr>\n",
       "    <tr>\n",
       "      <th>month</th>\n",
       "      <td>0</td>\n",
       "    </tr>\n",
       "    <tr>\n",
       "      <th>day</th>\n",
       "      <td>0</td>\n",
       "    </tr>\n",
       "    <tr>\n",
       "      <th>weekday</th>\n",
       "      <td>0</td>\n",
       "    </tr>\n",
       "    <tr>\n",
       "      <th>hour</th>\n",
       "      <td>0</td>\n",
       "    </tr>\n",
       "  </tbody>\n",
       "</table>\n",
       "</div><br><label><b>dtype:</b> int64</label>"
      ],
      "text/plain": [
       "case_number                     0\n",
       "incident_datetime               0\n",
       "incident_type_primary           0\n",
       "incident_description            0\n",
       "parent_incident_type            0\n",
       "hour_of_day                     0\n",
       "day_of_week                     0\n",
       "address_1                      33\n",
       "city                            0\n",
       "state                           0\n",
       "location                     6087\n",
       "latitude                     6087\n",
       "longitude                    6087\n",
       "created_at                 189018\n",
       "zip_code                     3377\n",
       "neighborhood                 6075\n",
       "council_district             2388\n",
       "council_district_2011        3431\n",
       "census_tract                 5982\n",
       "census_block_group           5982\n",
       "census_block                 5982\n",
       "census_tract_2010           19529\n",
       "census_block_group_2010     19561\n",
       "census_block_2010           19531\n",
       "police_district              5989\n",
       "tractce20                    5982\n",
       "geoid20_tract                5982\n",
       "geoid20_blockgroup           5982\n",
       "geoid20_block                5982\n",
       "year                            0\n",
       "month                           0\n",
       "day                             0\n",
       "weekday                         0\n",
       "hour                            0\n",
       "dtype: int64"
      ]
     },
     "execution_count": 49,
     "metadata": {},
     "output_type": "execute_result"
    }
   ],
   "source": [
    "df.isnull().sum()"
   ]
  },
  {
   "cell_type": "code",
   "execution_count": 50,
   "metadata": {
    "id": "ZOYv93zDRzFu"
   },
   "outputs": [],
   "source": [
    "#As we can see created_at column has too many null values, hence dropping that column\n",
    "df_filtered=df.drop(columns=['created_at'])"
   ]
  },
  {
   "cell_type": "code",
   "execution_count": 51,
   "metadata": {
    "id": "JQ-Niq8xR0sR"
   },
   "outputs": [],
   "source": [
    "#The remaining null values are very less in number when compared to the total size of the dataset, hence we can drop it\n",
    "df_filtered.dropna(axis='index',inplace=True)"
   ]
  },
  {
   "cell_type": "code",
   "execution_count": 52,
   "metadata": {
    "id": "7gtnBZfUR3up"
   },
   "outputs": [],
   "source": [
    "# Categorize incident types into broader crime categories (sexual, assault, vehicle, theft, murder)\n",
    "df_filtered['incident_type_primary'] = df_filtered['incident_type_primary'].str.lower()\n",
    "\n",
    "sexual_crimes = ['other sexual offense','sexual assault', 'rape', 'sexual abuse', 'sodomy']\n",
    "assault_crimes=['agg assault on p/officer', 'aggr assault', 'assault']\n",
    "vehicle_crimes=['theft of vehicles', 'uuv','theft of vehicle']\n",
    "theft_crimes=['burglary', 'larceny/theft','robbery', 'theft of services','theft', 'breaking & entering']\n",
    "murder_crimes=['crim negligent homicide', 'homicide', 'manslaughter', 'murder']\n",
    "df_filtered['incident_type_primary'] = df_filtered['incident_type_primary'].replace(sexual_crimes, 'sexual crime')\n",
    "df_filtered['incident_type_primary'] = df_filtered['incident_type_primary'].replace(assault_crimes, 'assault crime')\n",
    "df_filtered['incident_type_primary'] = df_filtered['incident_type_primary'].replace(vehicle_crimes, 'vehicle crime')\n",
    "df_filtered['incident_type_primary'] = df_filtered['incident_type_primary'].replace(theft_crimes,'theft crimes')\n",
    "df_filtered['incident_type_primary'] = df_filtered['incident_type_primary'].replace(murder_crimes,'murder crimes')"
   ]
  },
  {
   "cell_type": "code",
   "execution_count": 53,
   "metadata": {
    "id": "uiZJqPMoR97m"
   },
   "outputs": [],
   "source": [
    "# Convert crime data to GeoDataFrame\n",
    "gdf_crimes = gpd.GeoDataFrame(\n",
    "    df_filtered,\n",
    "    geometry=gpd.points_from_xy(df_filtered.longitude, df_filtered.latitude),\n",
    "    crs=\"EPSG:4326\"\n",
    ")"
   ]
  },
  {
   "cell_type": "code",
   "execution_count": 54,
   "metadata": {
    "colab": {
     "base_uri": "https://localhost:8080/"
    },
    "id": "zRl9xJqsOznK",
    "outputId": "2403e9c6-b34e-4be8-d225-28f16eff897c"
   },
   "outputs": [
    {
     "name": "stdout",
     "output_type": "stream",
     "text": [
      "Requirement already satisfied: scikit-learn in /usr/local/lib/python3.10/dist-packages (1.5.2)\n",
      "Requirement already satisfied: numpy>=1.19.5 in /usr/local/lib/python3.10/dist-packages (from scikit-learn) (1.22.1)\n",
      "Requirement already satisfied: scipy>=1.6.0 in /usr/local/lib/python3.10/dist-packages (from scikit-learn) (1.7.3)\n",
      "Requirement already satisfied: joblib>=1.2.0 in /usr/local/lib/python3.10/dist-packages (from scikit-learn) (1.4.2)\n",
      "Requirement already satisfied: threadpoolctl>=3.1.0 in /usr/local/lib/python3.10/dist-packages (from scikit-learn) (3.5.0)\n"
     ]
    }
   ],
   "source": [
    "!pip install scikit-learn --upgrade"
   ]
  },
  {
   "cell_type": "markdown",
   "metadata": {
    "id": "hgsgXhFSNnoV"
   },
   "source": [
    "**1**.**IS THERE ANY REALTION BETWEEN SNOWFALL AND CRIME RATE IN BUFFALO?**"
   ]
  },
  {
   "cell_type": "markdown",
   "metadata": {
    "id": "4TkYmxMOrygJ"
   },
   "source": [
    "**Algorithm and Visualization**"
   ]
  },
  {
   "cell_type": "code",
   "execution_count": null,
   "metadata": {
    "colab": {
     "base_uri": "https://localhost:8080/"
    },
    "id": "C8S_U9z9HvB4",
    "outputId": "73c51aa3-2e7f-4cdb-e79e-447bd8d84422"
   },
   "outputs": [
    {
     "name": "stdout",
     "output_type": "stream",
     "text": [
      "<class 'pandas.core.frame.DataFrame'>\n",
      "RangeIndex: 5786 entries, 0 to 5785\n",
      "Data columns (total 74 columns):\n",
      " #   Column           Non-Null Count  Dtype  \n",
      "---  ------           --------------  -----  \n",
      " 0   STATION          5786 non-null   object \n",
      " 1   NAME             5786 non-null   object \n",
      " 2   LATITUDE         5786 non-null   float64\n",
      " 3   LONGITUDE        5786 non-null   float64\n",
      " 4   ELEVATION        5786 non-null   float64\n",
      " 5   DATE             5786 non-null   object \n",
      " 6   AWND             5785 non-null   float64\n",
      " 7   AWND_ATTRIBUTES  5785 non-null   object \n",
      " 8   FMTM             1064 non-null   float64\n",
      " 9   FMTM_ATTRIBUTES  1064 non-null   object \n",
      " 10  PGTM             1107 non-null   float64\n",
      " 11  PGTM_ATTRIBUTES  1107 non-null   object \n",
      " 12  PRCP             5785 non-null   float64\n",
      " 13  PRCP_ATTRIBUTES  5785 non-null   object \n",
      " 14  PSUN             1362 non-null   float64\n",
      " 15  PSUN_ATTRIBUTES  1362 non-null   object \n",
      " 16  SNOW             5785 non-null   float64\n",
      " 17  SNOW_ATTRIBUTES  5785 non-null   object \n",
      " 18  SNWD             5785 non-null   float64\n",
      " 19  SNWD_ATTRIBUTES  5785 non-null   object \n",
      " 20  TAVG             3690 non-null   float64\n",
      " 21  TAVG_ATTRIBUTES  3690 non-null   object \n",
      " 22  TMAX             5785 non-null   float64\n",
      " 23  TMAX_ATTRIBUTES  5785 non-null   object \n",
      " 24  TMIN             5785 non-null   float64\n",
      " 25  TMIN_ATTRIBUTES  5785 non-null   object \n",
      " 26  TSUN             1363 non-null   float64\n",
      " 27  TSUN_ATTRIBUTES  1363 non-null   object \n",
      " 28  WDF2             5785 non-null   float64\n",
      " 29  WDF2_ATTRIBUTES  5785 non-null   object \n",
      " 30  WDF5             5779 non-null   float64\n",
      " 31  WDF5_ATTRIBUTES  5779 non-null   object \n",
      " 32  WESD             1042 non-null   float64\n",
      " 33  WESD_ATTRIBUTES  1042 non-null   object \n",
      " 34  WSF2             5785 non-null   float64\n",
      " 35  WSF2_ATTRIBUTES  5785 non-null   object \n",
      " 36  WSF5             5779 non-null   float64\n",
      " 37  WSF5_ATTRIBUTES  5779 non-null   object \n",
      " 38  WT01             2485 non-null   float64\n",
      " 39  WT01_ATTRIBUTES  2485 non-null   object \n",
      " 40  WT02             244 non-null    float64\n",
      " 41  WT02_ATTRIBUTES  244 non-null    object \n",
      " 42  WT03             487 non-null    float64\n",
      " 43  WT03_ATTRIBUTES  487 non-null    object \n",
      " 44  WT04             76 non-null     float64\n",
      " 45  WT04_ATTRIBUTES  76 non-null     object \n",
      " 46  WT05             284 non-null    float64\n",
      " 47  WT05_ATTRIBUTES  284 non-null    object \n",
      " 48  WT06             78 non-null     float64\n",
      " 49  WT06_ATTRIBUTES  78 non-null     object \n",
      " 50  WT07             54 non-null     float64\n",
      " 51  WT07_ATTRIBUTES  54 non-null     object \n",
      " 52  WT08             640 non-null    float64\n",
      " 53  WT08_ATTRIBUTES  640 non-null    object \n",
      " 54  WT09             210 non-null    float64\n",
      " 55  WT09_ATTRIBUTES  210 non-null    object \n",
      " 56  WT11             8 non-null      float64\n",
      " 57  WT11_ATTRIBUTES  8 non-null      object \n",
      " 58  WT13             641 non-null    float64\n",
      " 59  WT13_ATTRIBUTES  641 non-null    object \n",
      " 60  WT14             167 non-null    float64\n",
      " 61  WT14_ATTRIBUTES  167 non-null    object \n",
      " 62  WT15             13 non-null     float64\n",
      " 63  WT15_ATTRIBUTES  13 non-null     object \n",
      " 64  WT16             768 non-null    float64\n",
      " 65  WT16_ATTRIBUTES  768 non-null    object \n",
      " 66  WT17             4 non-null      float64\n",
      " 67  WT17_ATTRIBUTES  4 non-null      object \n",
      " 68  WT18             419 non-null    float64\n",
      " 69  WT18_ATTRIBUTES  419 non-null    object \n",
      " 70  WT21             3 non-null      float64\n",
      " 71  WT21_ATTRIBUTES  3 non-null      object \n",
      " 72  WT22             51 non-null     float64\n",
      " 73  WT22_ATTRIBUTES  51 non-null     object \n",
      "dtypes: float64(37), object(37)\n",
      "memory usage: 3.3+ MB\n",
      "Accuracy: 0.5513126491646778\n",
      "F1 Score: 0.6710411198600175\n",
      "ROC AUC Score: 0.5539469786729858\n",
      "\n",
      "Classification Report:\n",
      "               precision    recall  f1-score   support\n",
      "\n",
      "           0       0.71      0.19      0.29       844\n",
      "           1       0.53      0.92      0.67       832\n",
      "\n",
      "    accuracy                           0.55      1676\n",
      "   macro avg       0.62      0.55      0.48      1676\n",
      "weighted avg       0.62      0.55      0.48      1676\n",
      "\n"
     ]
    }
   ],
   "source": [
    "import pandas as pd\n",
    "from sklearn.ensemble import GradientBoostingClassifier\n",
    "from sklearn.model_selection import train_test_split\n",
    "from sklearn.metrics import accuracy_score, f1_score, classification_report, roc_auc_score\n",
    "from sklearn.impute import SimpleImputer  # Import SimpleImputer\n",
    "\n",
    "# Load your crime dataset\n",
    "crime_data=df_filtered\n",
    "\n",
    "# Step 1: Convert `incident_datetime` to date and calculate daily crime counts\n",
    "crime_data['date'] = pd.to_datetime(crime_data['incident_datetime']).dt.date\n",
    "daily_crime_counts = crime_data.groupby('date').size().reset_index(name='daily_crime_count')\n",
    "\n",
    "# Load your weather dataset\n",
    "weather_data = pd.read_csv(\"data/weather_dataset_50598176.csv\")\n",
    "weather_data.info()\n",
    "# Ensure `date` column in weather_data is in date format\n",
    "# Ensure `DATE` column in weather_data is in date format\n",
    "weather_data['date'] = pd.to_datetime(weather_data['DATE']).dt.date\n",
    "\n",
    "\n",
    "# Step 2: Merge daily crime counts with weather data on the `date` column\n",
    "merged_data = pd.merge(daily_crime_counts, weather_data, on='date', how='inner')\n",
    "\n",
    "# Step 3: Define features and target for modeling\n",
    "# For binary classification, we can categorize days with high vs. low crime counts\n",
    "merged_data['high_crime'] = merged_data['daily_crime_count'].apply(lambda x: 1 if x > merged_data['daily_crime_count'].median() else 0)\n",
    "\n",
    "X = merged_data[['SNOW']]  # Add more features if available\n",
    "y = merged_data['high_crime']\n",
    "\n",
    "# Split the data into training and testing sets\n",
    "X_train, X_test, y_train, y_test = train_test_split(X, y, test_size=0.3, random_state=42, stratify=y)\n",
    "\n",
    "# Impute missing values using SimpleImputer\n",
    "imputer = SimpleImputer(strategy='mean')  # Or use 'median', 'most_frequent'\n",
    "X_train = imputer.fit_transform(X_train)\n",
    "X_test = imputer.transform(X_test)\n",
    "\n",
    "# Initialize and train the Gradient Boosting Classifier\n",
    "gb_model = GradientBoostingClassifier(random_state=42)\n",
    "gb_model.fit(X_train, y_train)\n",
    "\n",
    "# Predict and evaluate\n",
    "y_pred = gb_model.predict(X_test)\n",
    "accuracy = accuracy_score(y_test, y_pred)\n",
    "f1 = f1_score(y_test, y_pred)\n",
    "roc_auc = roc_auc_score(y_test, y_pred)\n",
    "report = classification_report(y_test, y_pred)\n",
    "\n",
    "# Output results\n",
    "print(\"Accuracy:\", accuracy)\n",
    "print(\"F1 Score:\", f1)\n",
    "print(\"ROC AUC Score:\", roc_auc)\n",
    "print(\"\\nClassification Report:\\n\", report)\n"
   ]
  },
  {
   "cell_type": "markdown",
   "metadata": {
    "id": "xiA4iV9rZ4kF"
   },
   "source": [
    "**Explanation and Analysis**"
   ]
  },
  {
   "cell_type": "markdown",
   "metadata": {
    "id": "yYB4faM-YktB"
   },
   "source": [
    "**Explanation of Code:** This code actually gives an answer whether the day is high crime or low crime day by using snowfall data. First, it reads and preprocesses crime and weather data: the crime dataset is time-serialized by date to calculate daily crime rates while the weather data is cleaned to change the ‘date’ column to the appropriate format. It merges the two datasets based on the date Using the merge function it combines the dataframes based on date. In order to capture the variation in daily crime levels and make the target variable easy to interpret, binary high_crime is introduced as mathematical difference between daily crime count and median divided by two to set the value of high_crime equal to 1 for days with crime rates above the median and 0 otherwise. The feature variable (`SNOW` meaning days’ worth of snow) and the target variable (`high_crime`) are then divided into test and training data sets. Handling of missing values of the feature data are done with the help of the `SimpleImputer `. Gradient Boosting Classifier is built on the same data and the accuracy, F1 score, ROC AUC score are mentioned for the model along with a classification report which contains global metrics and distribution of such metrics for two classes: high and low crime.\n",
    "\n"
   ]
  },
  {
   "cell_type": "markdown",
   "metadata": {
    "id": "AxnFH290PKfc"
   },
   "source": [
    "**Visualization**: The scatter plot and box plot will provide a visual indication of any trends. If there's a visible trend (e.g., higher crime counts with more snowfall),"
   ]
  },
  {
   "cell_type": "code",
   "execution_count": 56,
   "metadata": {
    "colab": {
     "base_uri": "https://localhost:8080/",
     "height": 573
    },
    "id": "Urqyx-L1ItUT",
    "outputId": "cc73c3a7-e25b-4cd9-a7ad-b70e4f594e04"
   },
   "outputs": [
    {
     "data": {
      "image/png": "[encoded data removed]",
      "text/plain": [
       "<Figure size 1000x600 with 1 Axes>"
      ]
     },
     "metadata": {},
     "output_type": "display_data"
    }
   ],
   "source": [
    "import matplotlib.pyplot as plt\n",
    "import seaborn as sns\n",
    "\n",
    "# Scatter plot of daily snowfall vs. daily crime count\n",
    "plt.figure(figsize=(10, 6))\n",
    "sns.scatterplot(data=merged_data, x='SNOW', y='daily_crime_count', alpha=0.6)\n",
    "plt.title('Daily Snowfall vs. Daily Crime Count in Buffalo')\n",
    "plt.xlabel('Daily Snowfall (inches)')\n",
    "plt.ylabel('Daily Crime Count')\n",
    "plt.axhline(merged_data['daily_crime_count'].median(), color='red', linestyle='--', label='Median Crime Count')\n",
    "plt.legend()\n",
    "plt.show()\n"
   ]
  },
  {
   "cell_type": "markdown",
   "metadata": {
    "id": "W7lV5whPXuOx"
   },
   "source": [
    "The scatter plot below depicts Daily Snowfall (in inches) and Daily Crime Count in Buffalo. Here's a breakdown of the key insights:\n",
    "Concentration of Data Points:\n",
    "Majority of the data points are skewed towards lesser amount of snowfall most of which is nearly equal to zero. What this means is that on all the days that have been reviewed, deep snow is seldom in sight.\n",
    "When snow is below, the fluctuations in the crime count are from null to.one hundred and something and everything in between.\n",
    "Effect of Higher Snowfall:\n",
    "However, when average daily snowfall rises above 10cm or 4 inches or reaches 100 inches, the count of crimes descends or does not fall. There are fewer points with high snow read, but in most cases, the corresponding crime figures are also low.\n",
    "This is an indication that more snow might used to suppress criminal incidences.\n",
    "Median Crime Count:\n",
    "There is also the dotted red line that seems to have crossed the mid-point of 40 for the median daily crime rate.\n",
    "For the days with no or little snow, majority of the points are higher than this median of crime count.\n",
    "During days with more snow, nearly all of the dots are below the middle line implying perhaps lesser crime numbers during high snow days.\n",
    "Outliers:\n",
    "The few cases that are scattered at high snow region with above 200 inches correspond to higher crime rates but the pattern is not well defined.\n",
    "In conclusion, the plot implies that a heightened variation of crime density observed on days with little or no snow is persistent, although the higher density of falling snow in Buffalo means fewer crimes."
   ]
  },
  {
   "cell_type": "markdown",
   "metadata": {
    "id": "mufbECngUsLH"
   },
   "source": [
    "Explanation:\n",
    "\n",
    "Data Points: On the plot, individual points reflect a day, and the position of each point reflects the snowfall for the day (on the x-axis) and the number of crimes for the day (y-axis).\n",
    "\n",
    "Relationship: Looking at the scatter plot, you can comprehended:\n",
    "\n",
    "Trends: If all the points move upward, for instance when the value of snowfall is ups on the y- axis, it means that there can be a relationship of a positive correlation of between snowfall and crime counts.\n",
    "Distribution: The spread of crime density through different snow levels can reveal relation between crime rates and snowfall density.\n",
    "Median Line: The other horizontal lines of the same color depict the median crime count, as indicated by the red dashed line.\n",
    "\n",
    "Locations above and beyond this line equal to an above average crime count and points beneath the line represent a below average crime count.\n",
    "The position of this line can help you visualize how, percentage of yearly snowfall is to crime count or median. For instance, if most high-snowfall days are also above the median line, then the argument that snow fall may leads to increased crime rate gets support it deserves.\n",
    "\n",
    "In using this scatter plot, it would be easier to understand how the snowfall affects the number of crimes committed in Buffalo. And it offers a simple, yet powerful means of gaining insights into such things as whether certain weather conditions might lend themselves to increase in crime. Consequently, if a pattern or a positive relationship pattern appears, it can be analyzed by means of quantitative techniques or be used in reports in order to illustrate hypotheses on the connection between snow and crime.\n"
   ]
  },
  {
   "cell_type": "code",
   "execution_count": 57,
   "metadata": {
    "colab": {
     "base_uri": "https://localhost:8080/",
     "height": 573
    },
    "id": "Y20XfIRRO6Et",
    "outputId": "3f9812f5-08b9-43ec-ad54-5c632297e695"
   },
   "outputs": [
    {
     "data": {
      "image/png": "[encoded data removed]",
      "text/plain": [
       "<Figure size 1000x600 with 1 Axes>"
      ]
     },
     "metadata": {},
     "output_type": "display_data"
    }
   ],
   "source": [
    "# Create a new category for snowfall bins\n",
    "merged_data['snow_category'] = pd.cut(merged_data['SNOW'], bins=[0, 1, 5, 10, 20, 30], labels=['0-1', '1-5', '5-10', '10-20', '20+'])\n",
    "\n",
    "plt.figure(figsize=(10, 6))\n",
    "sns.boxplot(data=merged_data, x='snow_category', y='daily_crime_count')\n",
    "plt.title('Crime Count Distribution Across Snowfall Categories')\n",
    "plt.xlabel('Snowfall Category (inches)')\n",
    "plt.ylabel('Daily Crime Count')\n",
    "plt.show()\n"
   ]
  },
  {
   "cell_type": "markdown",
   "metadata": {
    "id": "jJyDdcDGYOuQ"
   },
   "source": [
    "This box plot divides snowfall into five categories: Grouping of spoilers was done based on the size; 0-1, 1-5, 5-10, 10-20, and 20+ inches.\n",
    "\n",
    "The actual number of days with at least one crime, represented as the horizontal line inside the box, is relatively stable across all types of snowfall averaging around 40 per day for every category.\n",
    "The IQR (the height of the box) is also comparable which means the middle half of the crime count is unlikely to be affected by the snowfall categories.\n",
    "All categories have outliers, though a few more numerous in days with lower snowfalls, volume ranging from 1-5 inches.\n",
    "The last category represents those stations that reported 20 inches or more of the snowfall; in this case, the distribution of crime counts seems logically reasonable, and there are no extremely high values.\n",
    "Conclusion: As with the results of the previous analysis, snowfall does not seem to have a significant impact on the median crime count, although this paper has concluded that a higher amount of snowfall decreases variance and creates fewer extremes in crime counts."
   ]
  },
  {
   "cell_type": "markdown",
   "metadata": {
    "id": "KB_ofA2ZU2_d"
   },
   "source": [
    "Explanation:\n",
    "Box Plot Components: A box plot typically shows:\n",
    "\n",
    "The average number of crimes per day, enclosed by the middle line inside the rectangular box of the daily crime totals for each snowfall bracket.\n",
    "Interquartile range: The boxed portion IQR = Q1 – Q3 The entire box starting from the lowest value of the data up to the highest value = IQR\n",
    "The symbols as whiskers found protruding from the box expand the range of the data past the upper and lower quartiles toward 1.5IQR.\n",
    "In the graph, it is not clear to indicate that the outliers are result of unique points out the whiskers.\n",
    "Understanding Distribution:\n",
    "\n",
    "The box plot allows for quick comparison of crime counts across different snowfall categories:\n",
    "Using median line you are able to identify that categories of snowfalls which are linked to higher or lower counts of daily crimes.\n",
    "Variability of the crime count within each snowfall category is depicted by the width of the boxes and the position of the whiskers.\n",
    "If it is observed that a higher snowfall class always has a higher median then it can be interpreted that more of snow fall causes more of crime rates.\n",
    "\n",
    "This picture is very helpful to understand how different frequencies of committing a crime a day are arranged according to varying snowfalls. It is useful to discover the regularity or tendency to determine which is important in the course of unearthing the influence of climate on crime incidences. It, therefore, means if there are increased crime rates where the snow has fallen and certain categories among them are a lot higher than the others then it may support the hypothesis that weather in particular snowfall is perhaps a factor in encouraging criminal activities in Buffalo."
   ]
  },
  {
   "cell_type": "markdown",
   "metadata": {
    "id": "uRekh4Wi3eo1"
   },
   "source": [
    "In previous EDA the observation is in winter the crimes are less so it lead me to take this question"
   ]
  },
  {
   "cell_type": "markdown",
   "metadata": {
    "id": "c6s5Q4CBRKMX"
   },
   "source": [
    "**Algorithm used and why this algorithm:**\n",
    "**Gradient Boosting Classifier**\n",
    "\n",
    "The algorithm which is used for the above problem is gradient boost classifer, gradient boosting is a powerful learnt algorithm that builds multiple decision trees sequentially where each subsequent tree is built to minimize the loss which is function of errors of preceding tree. Unlike the previous models, it remains from the Gradient Boosting category that can model complex non-linear and thus the method is appropriate for our problem because the crime rate may not have a linear relationship with the snowfall levels. For instance, a reasonable snow may produce no effect while intense snow may greatly decrease criminal activities. Such relationship patterns can be learned far better compared to a linear model like logistic regression by Gradient Boosting.\n",
    "\n",
    "It has been used in climate, impact analysis and any other stream that involves intricate multi-dimensional data analysis, proposes it for exhaustless application in modelling strategic alterations in particular social behaviours triggered by environmental factors.\n",
    "\n",
    "**Model Training and Tuning**\n",
    "Once we cleaned the data and obtained the daily crime counts and merged it with snowfall data, we then partitioned the data into training and testing data set. The following steps were taken:\n",
    "\n",
    "Feature Selection: Such features applied in the model included daily snow fall levels, day of the week and daily crimes offer.\n",
    "Hyperparameter Tuning: Under the Gradient Boosting parameters, one gets to set tree sizes with values such as the number of trees (n_estimators), learning rate, and the maximum depth of each tree among others. For, example, instead of using default values for parameters, turning these might enhance accuracy.\n",
    "\n",
    "**Evaluation Metrics**:\n",
    "To evaluate the model, I used:\n",
    "\n",
    "Accuracy: The accuracy rate on whether the day is high or a low crime day.\n",
    "F1-Score: The mean of precision and recall for models used to measure the capacity of the models in balancing between precision and recall in binary classification.\n",
    "ROC AUC: Represents the model’s performance for predicting high and low crime days irrespective of adopted threshold.\n",
    "The model had an accuracy of 55% an F1-score of 50.7% and a high recall of 92%: the high-crime days, which suggest that the model correctly picked up some elements of the crime patterns in snow. Nevertheless, the low level of R-squared for the high-crime days leave the impression that snowfall is not the complete solution to propping up the crime rate per day.\n",
    "\n",
    "\n",
    "**Effectiveness of Gradient Boosting Effectiveness**\n",
    "Surprisingly, although Gradient Boosting was only slightly better than the baseline, both the accuracy and the recall showed that snowfall does affect crime, assuming that we trust the given high-recall/high-precision definition of predicting days of increased crime. But snowfall doesn’t completely explain the fluctuation of daily crime rate. Accordingly, probably, other conditions – temperature, the day of the week, or else, sociodemographic characteristics – are required in order to enhance the predictive capability. Again, therefore, the medium level of the model points to the fact that snowfall is only one out of many environmental determinants of criminality.\n",
    "\n",
    "\n",
    "The Gradient Boosting model also determined that although snowfall has correlation with the crimes rate changes it cannot alone be used predict the level of crimes. The extreme in snow fall could pose an even greater effect on crime rates by dissuading some partial forms of crime due to reduced activity, which could only be seen in a higher order polynomial model. This result implies that snowfall has a relationship with daily crime occurrence but the nature of this relationship is presumably conditional on other contextual characteristics.\n",
    "\n",
    "Therefore, the Gradient Boosting Classifier gave a deeper insight into the interaction between the number of snowfalls and the rates of crimes. Some of it picked up some major trends; for instance, how higher snow brings down crime, but it also underscored how the need for other variables to increase the effectiveness of the model.\n",
    "\n",
    "Based on the visualizations and outputs we can say that there is no clear or strong relationship between snowfall and crime rate in Buffalo, as crime counts seem relatively consistent across different snowfall categories, and high snowfall does not appear to significantly increase crime rates."
   ]
  },
  {
   "cell_type": "markdown",
   "metadata": {
    "id": "h-Lz1cIGp18_"
   },
   "source": [
    "\n",
    "\n",
    "**2. Do crimes cluster around holidays?**"
   ]
  },
  {
   "cell_type": "markdown",
   "metadata": {
    "id": "p7mLBiDSsLnT"
   },
   "source": [
    "**Algorithm and Visualization**"
   ]
  },
  {
   "cell_type": "code",
   "execution_count": null,
   "metadata": {
    "colab": {
     "base_uri": "https://localhost:8080/",
     "height": 1000
    },
    "id": "hATu5X9OgJDr",
    "outputId": "f53fa8cf-ae15-4cac-aac6-e1bf62be3d60"
   },
   "outputs": [
    {
     "name": "stdout",
     "output_type": "stream",
     "text": [
      "                 Generalized Linear Model Regression Results                  \n",
      "==============================================================================\n",
      "Dep. Variable:            crime_count   No. Observations:                 5800\n",
      "Model:                            GLM   Df Residuals:                     5798\n",
      "Model Family:                 Poisson   Df Model:                            1\n",
      "Link Function:                    Log   Scale:                          1.0000\n",
      "Method:                          IRLS   Log-Likelihood:                -28520.\n",
      "Date:                Wed, 06 Nov 2024   Deviance:                       24562.\n",
      "Time:                        00:17:43   Pearson chi2:                 2.48e+04\n",
      "No. Iterations:                     4   Pseudo R-squ. (CS):           0.005620\n",
      "Covariance Type:            nonrobust                                         \n",
      "==============================================================================\n",
      "                 coef    std err          z      P>|z|      [0.025      0.975]\n",
      "------------------------------------------------------------------------------\n",
      "intercept      3.8041      0.002   1899.282      0.000       3.800       3.808\n",
      "is_holiday     0.0546      0.009      5.765      0.000       0.036       0.073\n",
      "==============================================================================\n"
     ]
    },
    {
     "name": "stderr",
     "output_type": "stream",
     "text": [
      "<ipython-input-59-8b6e369b6e56>:53: FutureWarning: \n",
      "\n",
      "The `ci` parameter is deprecated. Use `errorbar=None` for the same effect.\n",
      "\n",
      "  bar_plot = sns.barplot(x='is_holiday', y='crime_count', data=crime_counts_aggregated,\n",
      "<ipython-input-59-8b6e369b6e56>:53: FutureWarning: \n",
      "\n",
      "Passing `palette` without assigning `hue` is deprecated and will be removed in v0.14.0. Assign the `x` variable to `hue` and set `legend=False` for the same effect.\n",
      "\n",
      "  bar_plot = sns.barplot(x='is_holiday', y='crime_count', data=crime_counts_aggregated,\n"
     ]
    },
    {
     "data": {
      "image/png": "[encoded data removed]",
      "text/plain": [
       "<Figure size 1000x600 with 1 Axes>"
      ]
     },
     "metadata": {},
     "output_type": "display_data"
    }
   ],
   "source": [
    "import pandas as pd\n",
    "import numpy as np\n",
    "import statsmodels.api as sm\n",
    "import matplotlib.pyplot as plt\n",
    "\n",
    "# Assuming merged_df is your merged DataFrame with 'is_holiday' as a binary target variable\n",
    "# Replace this with your actual data loading step\n",
    "# Example structure of merged_df:\n",
    "crime_df=df\n",
    "holiday_df=pd.read_csv('data/holiday_dates_50598176.csv')\n",
    "# Load your datasets (assuming crime_df and holiday_df are already loaded)\n",
    "# Merge holiday and crime data on the date column\n",
    "crime_df['date'] = pd.to_datetime(crime_df['incident_datetime']).dt.date\n",
    "holiday_df['Date'] = pd.to_datetime(holiday_df['Date']).dt.date\n",
    "merged_df = pd.merge(crime_df, holiday_df, left_on='date', right_on='Date', how='left')\n",
    "holiday_df = pd.read_csv('/content/US Holiday Dates (2004-2021).csv')\n",
    "\n",
    "# Convert the incident_datetime in crime_df to a proper datetime format and extract the date\n",
    "crime_df['date'] = pd.to_datetime(crime_df['incident_datetime']).dt.date\n",
    "\n",
    "# Convert the Date in holiday_df to datetime format\n",
    "holiday_df['Date'] = pd.to_datetime(holiday_df['Date']).dt.date\n",
    "\n",
    "# Merge holiday and crime data on the date column\n",
    "merged_df = pd.merge(crime_df, holiday_df, left_on='date', right_on='Date', how='left')\n",
    "\n",
    "# Create a binary column 'is_holiday' where 1 indicates a holiday and 0 indicates a non-holiday\n",
    "merged_df['is_holiday'] = np.where(merged_df['Holiday'].notna(), 1, 0)\n",
    "\n",
    "# Group by date and is_holiday to calculate daily crime counts\n",
    "crime_counts = merged_df.groupby(['date', 'is_holiday']).size().reset_index(name='crime_count')\n",
    "\n",
    "# Add an intercept column for the GLM model\n",
    "crime_counts['intercept'] = 1\n",
    "\n",
    "# Define the independent variables (features)\n",
    "X = crime_counts[['intercept', 'is_holiday']]  # Intercept and holiday indicator\n",
    "y = crime_counts['crime_count']  # Dependent variable: daily crime count\n",
    "\n",
    "# Fit a Poisson regression model using GLM\n",
    "poisson_model = sm.GLM(y, X, family=sm.families.Poisson()).fit()\n",
    "\n",
    "# Print the summary of the model to see if holidays significantly affect crime rates\n",
    "print(poisson_model.summary())\n",
    "# Set up the figure size and style\n",
    "plt.figure(figsize=(10, 6))  # Adjust figure size if necessary\n",
    "sns.set(style=\"whitegrid\")\n",
    "\n",
    "# Create a bar plot with color differentiation for holidays vs non-holidays\n",
    "# Aggregate the crime counts before plotting to reduce the number of bars\n",
    "crime_counts_aggregated = crime_counts.groupby('is_holiday')['crime_count'].sum().reset_index()\n",
    "\n",
    "bar_plot = sns.barplot(x='is_holiday', y='crime_count', data=crime_counts_aggregated,\n",
    "                       palette=['#FF9999', '#66B2FF'], ci=None)\n",
    "\n",
    "# Add annotations (text) on top of each bar to show exact crime counts\n",
    "for index, row in crime_counts_aggregated.iterrows():\n",
    "    bar_plot.text(index, row['crime_count'] + 5, round(row['crime_count'], 2),\n",
    "                 color='black', ha=\"center\", fontsize=12)\n",
    "\n"
   ]
  },
  {
   "cell_type": "markdown",
   "metadata": {
    "id": "FcGegN6xyNXf"
   },
   "source": [
    "**The above one is the Visualization**"
   ]
  },
  {
   "cell_type": "markdown",
   "metadata": {
    "id": "-_p4ANLrvP1A"
   },
   "source": [
    "**Explanation and Analysis:**"
   ]
  },
  {
   "cell_type": "markdown",
   "metadata": {
    "id": "0bHjDz5CvEwk"
   },
   "source": [
    " The analysis provides unique information about the connection of crime rates with holidays thus answering the hypothesis that whether not crimes are committed more around holidays. The dependent variable crime_count denotes the number of crimes per day and since the analysis of the model deals with count data, Poisson distribution used in the model is appropriate. , the estimate of the parameter for the binary variable is_holiday is 0.0546, meaning that the log of crime count is significantly higher on days that are holidays compared with non-holiday with p< 0.05. This translates to an expected origination of approximately 5.6% for crime counts over the holidays. Nonetheless, the obtained Pseudo R-squared equal to 0.00562 points at the fact that the model considers only a limited share of the variance of crime counts and other factors might exist to affect crime rate. The bar plot presented in the figure below complements these results in the form of a holiday against non-holiday average crime comparison. Altogether, the findings provide evidence for a significant relationship between holidays and crime rates, but it still provides a scope for intending more case to case study as far as socio- economic status and police force."
   ]
  },
  {
   "cell_type": "markdown",
   "metadata": {
    "id": "g8Q3opyIptcz"
   },
   "source": [
    "**Algorithm used and why this algorithm:Poisson Regression**\n",
    "\n",
    "**1. Poisson Regression (GLM):** For this analysis, I chose Poisson Regression as the primary statistical model to investigate whether crimes cluster around holidays. Poisson regression is suitable for modeling count data, specifically when the response variable (in this case, daily crime counts) represents the number of times an event occurs in a fixed interval of time or space. Given that the dependent variable is non-negative integer values representing counts, Poisson regression effectively captures the relationship between the binary predictor variable (holiday or not) and the count of crimes.\n",
    "\n",
    "**Model Specification:**  The model was built using the Generalized Linear Model (GLM) framework from the statsmodels library. The formula used was\n",
    "crime_count\n",
    "∼\n",
    "is_holiday\n",
    "crime_count∼is_holiday, where is_holiday is a binary variable indicating whether a date is a holiday.\n",
    "**Model Fitting:** After defining the independent variables (including an intercept and the holiday indicator), the model was fitted using maximum likelihood estimation, which allows for efficient parameter estimation even in cases where the data might not meet strict normality assumptions.\n",
    "**Bar Plot Visualization:** To visualize the results of the Poisson regression, a bar plot was created to compare total crime counts on holidays versus non-holidays. This visualization serves to provide an intuitive understanding of how crime rates differ between these two conditions.\n",
    "\n",
    "**Data Aggregation:** Crime counts were aggregated by holiday status to simplify the visualization and clearly illustrate differences in crime rates.\n",
    "Color Differentiation: The bars were color-coded (e.g., red for holidays and blue for non-holidays) to visually distinguish between the two groups.\n",
    "\n",
    "**Justification:** Poisson regression was chosen because it is designed for count data, making it an appropriate choice given that crime counts are non-negative integers. Additionally, it accounts for the fact that the mean and variance of the count data are often related, which is a key assumption in this type of modeling. By focusing on holidays as a binary predictor, the model aims to determine if there is a significant increase or decrease in crime counts during holidays compared to non-holidays.\n",
    "\n",
    "**Model Tuning/Training:** The main task in this analysis involved properly preparing the data, which included merging crime and holiday datasets, creating a binary indicator for holidays, and ensuring that the response variable was correctly defined as crime counts. The model fitting process did not require extensive tuning since Poisson regression inherently accounts for the distributional assumptions of count data.\n",
    "\n",
    "**Effectiveness and Metrics:** The effectiveness of the Poisson regression model can be evaluated through the model summary output provided by statsmodels. This summary includes coefficients, standard errors, z-values, p-values, and confidence intervals for each predictor. In particular, the significance of the is_holiday coefficient will indicate whether holidays significantly influence crime rates.\n",
    "\n",
    "If the p-value for is_holiday is below a chosen significance level (commonly 0.05), it suggests that crime counts are statistically significantly different on holidays compared to non-holidays. A positive coefficient would indicate that crime increases during holidays, while a negative coefficient would indicate a decrease.\n",
    "\n",
    "\n",
    "\n",
    "From the application of the Poisson regression model, we can gain valuable insights into the dynamics of crime in relation to holidays. If the results indicate significant clustering of crimes around holidays, this could inform law enforcement strategies, community safety measures, and resource allocation during holiday periods. Additionally, understanding whether crime rates increase or decrease during holidays could guide social policies aimed at crime prevention and community engagement.\n",
    "\n",
    "In conclusion Poisson regression is effective because it models count data and can handle the binary predictor is_holiday. It provides statistical evidence of whether holidays have a meaningful impact on crime rates.\n",
    "\n",
    "Based on the visualization and output yes the crimes slightly increase on holidays, as indicated by the statistically significant but small positive coefficient for is_holiday in the Poisson regression model.\n"
   ]
  }
 ],
 "metadata": {
  "colab": {
   "provenance": []
  },
  "kernelspec": {
   "display_name": "Python 3",
   "name": "python3"
  },
  "language_info": {
   "name": "python"
  }
 },
 "nbformat": 4,
 "nbformat_minor": 0
}
